{
 "cells": [
  {
   "cell_type": "code",
   "execution_count": 2,
   "id": "4678da1d-3531-4a76-95ed-73e6cf9b0b54",
   "metadata": {},
   "outputs": [],
   "source": [
    "#7.4\n",
    "things = [\"mozzarella\", \"cinderella\", \"Salmonella\"]"
   ]
  },
  {
   "cell_type": "code",
   "execution_count": 26,
   "id": "c9ebe42c-da87-47d1-9b20-bdf1bc569dad",
   "metadata": {},
   "outputs": [
    {
     "name": "stdout",
     "output_type": "stream",
     "text": [
      "Cinderella\n"
     ]
    }
   ],
   "source": [
    "#7.5\n",
    "things = ['mozzarella', 'cinderella', 'Salmonella']\n",
    "person = things[1]\n",
    "properperson=person.replace('c','C')\n",
    "print(properperson)\n"
   ]
  },
  {
   "cell_type": "code",
   "execution_count": 27,
   "id": "50cb571c-fd18-439b-b0ff-f6940d5ca5b7",
   "metadata": {},
   "outputs": [
    {
     "name": "stdout",
     "output_type": "stream",
     "text": [
      "MOZZARELLA\n"
     ]
    }
   ],
   "source": [
    "#7.6\n",
    "things = ['mozzarella', 'cinderella', 'Salmonella']\n",
    "cheese = things[0]\n",
    "print(cheese.upper())"
   ]
  },
  {
   "cell_type": "code",
   "execution_count": 35,
   "id": "a856b14e-6b5a-44f2-836b-a89f90335d38",
   "metadata": {},
   "outputs": [
    {
     "name": "stdout",
     "output_type": "stream",
     "text": [
      "['mozzarella', 'cinderella']\n",
      "True\n"
     ]
    }
   ],
   "source": [
    "#7.7\n",
    "Nobel_Prize = False\n",
    "things = ['mozzarella', 'cinderella', 'Salmonella']\n",
    "things.pop(2)\n",
    "if 'Salmonella' not in things:\n",
    "    Nobel_Prize = True\n",
    "print(things)\n",
    "print(Nobel_Prize)"
   ]
  },
  {
   "cell_type": "code",
   "execution_count": 40,
   "id": "b5cce1e0-8b54-484d-ab64-fe24bc4b96f1",
   "metadata": {},
   "outputs": [
    {
     "data": {
      "text/plain": [
       "['Harry', 'Ron', 'Hermione']"
      ]
     },
     "execution_count": 40,
     "metadata": {},
     "output_type": "execute_result"
    }
   ],
   "source": [
    "#9.1\n",
    "def good():\n",
    "    cast = ['Harry','Ron','Hermione']\n",
    "    return cast\n",
    "good()"
   ]
  },
  {
   "cell_type": "code",
   "execution_count": 60,
   "id": "6c7588ac-884e-4d35-83ed-3544d01d7ab2",
   "metadata": {},
   "outputs": [
    {
     "name": "stdout",
     "output_type": "stream",
     "text": [
      "3\n"
     ]
    }
   ],
   "source": [
    "#9.2\n",
    "def get_odds():\n",
    "    numbers = []\n",
    "    for x in range(10):\n",
    "        if x%2 :\n",
    "            numbers.append(x)\n",
    "    return numbers\n",
    "\n",
    "for i in get_odds():\n",
    "    if i/3 == 1:\n",
    "        print(i)"
   ]
  },
  {
   "cell_type": "code",
   "execution_count": null,
   "id": "733bf7f8-9a91-4c3f-90f8-4b42c3ee1c7d",
   "metadata": {},
   "outputs": [],
   "source": []
  }
 ],
 "metadata": {
  "kernelspec": {
   "display_name": "Python 3 (ipykernel)",
   "language": "python",
   "name": "python3"
  },
  "language_info": {
   "codemirror_mode": {
    "name": "ipython",
    "version": 3
   },
   "file_extension": ".py",
   "mimetype": "text/x-python",
   "name": "python",
   "nbconvert_exporter": "python",
   "pygments_lexer": "ipython3",
   "version": "3.10.9"
  }
 },
 "nbformat": 4,
 "nbformat_minor": 5
}
